{
 "cells": [
  {
   "cell_type": "markdown",
   "metadata": {},
   "source": [
    "循环神经网络，主要用于挖掘数据中的时序信息，以及语义信息的深度表达能力。\n",
    "\n",
    "在语音识别，语言模型，机器翻译以及时序分析方面被广泛应用。\n",
    "\n",
    "举个例子，比如文本序列的预测：预测句子的下一个单词是什么，一般需要当前的单词以及前面的单词。\n",
    "因为句子的单词之间不独立：比如当前单词是is，前一个词汇是sky，那么下一个词汇很大的概率是blue。\n",
    "\n",
    "RNN就是通过对大量的序列数据的学习。网络会记忆之前的信息，并依据之前的信息来推测后来的输出信息。\n",
    "\n",
    "所以在RNN中，**隐藏层节点之间是有连接的**，隐藏层当前的状态是由当前和输入和上一个时间点的隐藏层(状态)输出共同决定的。\n",
    "\n",
    "循环神经网络也称为 **递归神经网络**。\n"
   ]
  },
  {
   "cell_type": "markdown",
   "metadata": {},
   "source": [
    "首先看它和全连接网络的区别：\n",
    "\n",
    "下图是一个全连接网络：\n",
    "它的隐藏层的值只取决于输入的 x"
   ]
  },
  {
   "cell_type": "markdown",
   "metadata": {},
   "source": [
    "https://upload-images.jianshu.io/upload_images/1667471-7d73a2ab30e3353a.png?imageMogr2/auto-orient/strip%7CimageView2/2/w/478"
   ]
  },
  {
   "cell_type": "markdown",
   "metadata": {},
   "source": [
    "而 RNN 的隐藏层的值 s 不仅仅取决于当前这次的输入 x，还取决于上一次隐藏层的值 s：\n",
    "这个过程画成简图是这个样子："
   ]
  },
  {
   "cell_type": "markdown",
   "metadata": {},
   "source": [
    "https://upload-images.jianshu.io/upload_images/1667471-857dd5b7c7015499.png?imageMogr2/auto-orient/strip%7CimageView2/2/w/790"
   ]
  },
  {
   "cell_type": "markdown",
   "metadata": {},
   "source": [
    "其中，t 是时刻， x 是输入层， s 是隐藏层， o 是输出层，矩阵 W 就是隐藏层上一次的值作为这一次的输入的权重。"
   ]
  },
  {
   "cell_type": "markdown",
   "metadata": {},
   "source": [
    "上面的简图还不能够说明细节，来看一下更细致到向量级的连接图："
   ]
  },
  {
   "cell_type": "markdown",
   "metadata": {},
   "source": [
    "https://upload-images.jianshu.io/upload_images/1667471-4eba217f653527d5.png?imageMogr2/auto-orient/strip%7CimageView2/2/w/673"
   ]
  },
  {
   "cell_type": "markdown",
   "metadata": {},
   "source": [
    "**为什么循环神经网络可以往前看任意多个输入值呢？**\n",
    "\n",
    "来看下面的公式，即 RNN 的输出层 o 和 隐藏层 s 的计算方法：\n",
    "\n",
    "$o_t = g(V s_t)$\n",
    "\n",
    "$s_t = f(Ux_t + W s_{t-1}) $\n",
    "\n",
    "因此\n",
    "\n",
    "$s_t = f(Ux_t + W s_{t-1}) $\n",
    "\n",
    "  $ = f(Ux_t + W f(Ux_{t-1} + W s_{t-2}))$\n",
    "  \n",
    "  $ = f(Ux_t + W f(Ux_{t-1} + W f(Ux_{t-2} + W s_{t-3})))$\n",
    "  \n",
    "  ..."
   ]
  }
 ],
 "metadata": {
  "kernelspec": {
   "display_name": "Python 3",
   "language": "python",
   "name": "python3"
  },
  "language_info": {
   "codemirror_mode": {
    "name": "ipython",
    "version": 3
   },
   "file_extension": ".py",
   "mimetype": "text/x-python",
   "name": "python",
   "nbconvert_exporter": "python",
   "pygments_lexer": "ipython3",
   "version": "3.7.1"
  }
 },
 "nbformat": 4,
 "nbformat_minor": 2
}
