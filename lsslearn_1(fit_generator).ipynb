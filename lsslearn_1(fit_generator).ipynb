{
 "cells": [
  {
   "cell_type": "code",
   "execution_count": 1,
   "metadata": {
    "scrolled": false
   },
   "outputs": [
    {
     "name": "stdout",
     "output_type": "stream",
     "text": [
      "Populating the interactive namespace from numpy and matplotlib\n"
     ]
    },
    {
     "name": "stderr",
     "output_type": "stream",
     "text": [
      "Using TensorFlow backend.\n"
     ]
    },
    {
     "name": "stdout",
     "output_type": "stream",
     "text": [
      "In total  0 cosmologies\n"
     ]
    },
    {
     "ename": "IndexError",
     "evalue": "list index out of range",
     "output_type": "error",
     "traceback": [
      "\u001b[0;31m---------------------------------------------------------------------------\u001b[0m",
      "\u001b[0;31mIndexError\u001b[0m                                Traceback (most recent call last)",
      "\u001b[0;32m<ipython-input-1-d6728715cc0a>\u001b[0m in \u001b[0;36m<module>\u001b[0;34m\u001b[0m\n\u001b[1;32m     89\u001b[0m \u001b[0mcosmologies\u001b[0m\u001b[0;34m,\u001b[0m \u001b[0mfilenames\u001b[0m\u001b[0;34m,\u001b[0m \u001b[0minfos\u001b[0m \u001b[0;34m=\u001b[0m \u001b[0mmocklist\u001b[0m\u001b[0;34m(\u001b[0m\u001b[0;34m)\u001b[0m\u001b[0;34m\u001b[0m\u001b[0;34m\u001b[0m\u001b[0m\n\u001b[1;32m     90\u001b[0m \u001b[0mprint\u001b[0m\u001b[0;34m(\u001b[0m\u001b[0;34m'In total '\u001b[0m\u001b[0;34m,\u001b[0m \u001b[0mlen\u001b[0m\u001b[0;34m(\u001b[0m\u001b[0mcosmologies\u001b[0m\u001b[0;34m)\u001b[0m\u001b[0;34m,\u001b[0m \u001b[0;34m'cosmologies'\u001b[0m\u001b[0;34m)\u001b[0m\u001b[0;34m\u001b[0m\u001b[0;34m\u001b[0m\u001b[0m\n\u001b[0;32m---> 91\u001b[0;31m \u001b[0mcosmology\u001b[0m \u001b[0;34m=\u001b[0m \u001b[0mcosmologies\u001b[0m\u001b[0;34m[\u001b[0m\u001b[0;36m0\u001b[0m\u001b[0;34m]\u001b[0m\u001b[0;34m\u001b[0m\u001b[0;34m\u001b[0m\u001b[0m\n\u001b[0m\u001b[1;32m     92\u001b[0m \u001b[0;31m# print(snpfiles(cosmology))\u001b[0m\u001b[0;34m\u001b[0m\u001b[0;34m\u001b[0m\u001b[0;34m\u001b[0m\u001b[0m\n\u001b[1;32m     93\u001b[0m \u001b[0;31m# print(cosmology)\u001b[0m\u001b[0;34m\u001b[0m\u001b[0;34m\u001b[0m\u001b[0;34m\u001b[0m\u001b[0m\n",
      "\u001b[0;31mIndexError\u001b[0m: list index out of range"
     ]
    }
   ],
   "source": [
    "%pylab inline\n",
    "import numpy as np\n",
    "import keras, os, pynbody, struct\n",
    "\n",
    "# lsstr = \"ls /media/xiaodongli/0B9ADFB4341AD2BD/om_As/\"\n",
    "\n",
    "\n",
    "lsstr = \"ls /media/minstrel/Seagate/cola_multiverse/om_As/\"\n",
    "# 初始化数据集,因函数定义中参数不可转为全局变量\n",
    "x_train = np.zeros((21,2))\n",
    "x_test = np.zeros((10,32,32,32,1))\n",
    "y_test = np.zeros((10, 2))\n",
    "y_train = np.zeros((21, 2))\n",
    "\n",
    "def train_generator():  # 必须无限循环yield数据,全部数据遍历后再重新遍历数据,为下一个epoch yield 数据\n",
    "    i = 0\n",
    "    while 1:\n",
    "        X = []\n",
    "        y = []\n",
    "        global x_train, x_test, y_test, y_train\n",
    "        for cosmology in cosmologies[31 * i: 31 * (i + 1)]:\n",
    "            X.append(load_grid(cosmology, 'c')[0:32, 0:32, 0:32])\n",
    "            y.append(np.array([infos[cosmology]['om'], infos[cosmology]['sigma8']]))\n",
    "        X = np.array(X)\n",
    "        y = np.array(y)\n",
    "        x_train, x_test, y_train, y_test = model_selection.train_test_split(X, y, test_size=0.3)\n",
    "        x_train = x_train.reshape(-1, 32, 32, 32, 1)\n",
    "        x_test = x_test.reshape(-1, 32, 32, 32, 1)\n",
    "        i += 1\n",
    "        yield x_train, y_train  # tuple 类型\n",
    "        # 15个批次后重新遍历数据,此循环即死循环\n",
    "        if i == 15:\n",
    "            i = 0\n",
    "\n",
    "\n",
    "def mocklist():\n",
    "    files = os.popen(lsstr + \"om*.lua\").read().split('\\n')\n",
    "    # *代替多个字母,即列出所有符合条件的.lua文件:om...\n",
    "    cosmologies = []  # 宇宙学参数\n",
    "    mocks = {}  # 模拟测试\n",
    "    ifile = 0  # 有效文件\n",
    "    for nowfile in files:\n",
    "        # str[a:b]不存在时,返回'',不存在则忽略\n",
    "        nowstr = nowfile[-39:-10]\n",
    "        if nowstr == '':\n",
    "            continue\n",
    "        cosmologies.append(nowstr[0:15])\n",
    "        ifile += 1\n",
    "        try:\n",
    "            mocks[nowstr[0:15]] = {'om': float(nowstr[2:7]), 'As': float(nowstr[10:15]),\n",
    "                                   'sigma8': float(nowstr[23:29])}\n",
    "            # 添加随机数种子\n",
    "            ranseed = float(open(nowfile, 'r').readline().split()[2])  # 默认以所有空字符为分隔符,包括空格,\\n,\\t\n",
    "            mocks[nowstr[0:15]]['ranseed'] = int(ranseed)\n",
    "            # print(ranseed)\n",
    "        except:\n",
    "            pass\n",
    "    return cosmologies, files, mocks\n",
    "\n",
    "\n",
    "def cosmostr(om, As):\n",
    "    return 'om%.3f' % om + '_As%.3f' % As\n",
    "\n",
    "\n",
    "def snpfiles(cosmology, snpstr='c'):  #\n",
    "    return os.popen(lsstr + cosmology + \"*snap*\" + snpstr + \".*\").read().split()\n",
    "\n",
    "\n",
    "def gridfiles(cosmology, snpstr='c'):\n",
    "    return os.popen(lsstr + cosmology + \"*grid*\" + snpstr + \".*\").read().split()\n",
    "\n",
    "\n",
    "def load_grid(gridfile, snpstr='c', printinfo=False):  # 网格加载\n",
    "    gridfile = os.popen(lsstr + \"om%.3f\" % om + \"_As2.000_sigma8_*grid*\" + snpstr + \".*\").read().split()[0]\n",
    "    nowf = open(gridfile, 'rb')  # 以二进制形式读取文件\n",
    "    # struct:对python基本类型值与用python字符串格式表示的C struct类型间转化\n",
    "    size = struct.unpack('f' * 1, nowf.read(4 * 1))[0]\n",
    "    grid_nc = struct.unpack('i' * 1, nowf.read(4 * 1))[0]\n",
    "    data = struct.unpack('f' * grid_nc ** 3, nowf.read(4 * grid_nc ** 3))\n",
    "    if printinfo:\n",
    "        print('read in box size     \\n\\t', size)\n",
    "        print('read in num_grid      \\n\\t', grid_nc)\n",
    "        print('read in coarse grid \\n\\tsize    : ', len(data), '\\n\\texpect  : ', grid_nc ** 3)\n",
    "\n",
    "    nowf.close()\n",
    "    return np.array(data).reshape((grid_nc, grid_nc, grid_nc))\n",
    "\n",
    "\n",
    "cosmologies, filenames, infos = mocklist()\n",
    "print('In total ', len(cosmologies), 'cosmologies')\n",
    "cosmology = cosmologies[0]\n",
    "# print(snpfiles(cosmology))\n",
    "# print(cosmology)\n",
    "# pynbody:running a standard series of analysis routines\n",
    "# print(snpfiles(cosmology))\n",
    "print('Count #-par \\n\\t', sum([len(pynbody.load(snpfile)['pos']) for snpfile in snpfiles(cosmology)]),\n",
    "      '\\nexpect \\n\\t', 128 ** 3)\n",
    "size = 256\n",
    "\n",
    "for om in [0.16]:\n",
    "    fig, (ax1, ax2) = subplots(1, 2, figsize=(12, 6))\n",
    "    cosmology = cosmostr(om, 2.0)\n",
    "\n",
    "    # plot grid\n",
    "    data = load_grid(cosmology, 'c')\n",
    "    ax1.contourf(np.linspace(1, 255, 128), np.linspace(1, 255, 128), data[:, :, 0].T, 30, cmap='ocean')\n",
    "\n",
    "    # plot snp\n",
    "    pos = []\n",
    "    for snpfile in snpfiles(cosmology, 'c'):\n",
    "        data = pynbody.load(snpfile)['pos']\n",
    "        pos.append(np.copy(data[where(data[:, 2] < 2.)]))\n",
    "    pos = np.concatenate(pos)\n",
    "\n",
    "    ax2.scatter(pos[:, 0], pos[:, 1], s=0.1, c='k', alpha=1)\n",
    "    for ax in [ax1, ax2]:\n",
    "        ax.grid()\n",
    "        ax.set_xlim(0, size)\n",
    "        ax.set_ylim(0, size)\n",
    "        ax1.text(size * 0.03, size * 0.93, cosmology, fontsize=16, color='white')\n",
    "    plt.show()\n",
    "\n",
    "from keras import Sequential, layers\n",
    "from sklearn import model_selection, metrics\n",
    "\n",
    "model = keras.Sequential([\n",
    "    layers.Conv3D(32, (3, 3, 3), activation='relu', input_shape=(32, 32, 32, 1)),\n",
    "    layers.MaxPool3D(pool_size=(2, 2, 2)),\n",
    "    layers.Conv3D(64, (3, 3, 3), activation='relu'),\n",
    "    layers.MaxPool3D(pool_size=(2, 2, 2)),\n",
    "    layers.Conv3D(128, (3, 3, 3), activation='relu'),\n",
    "    layers.MaxPool3D(pool_size=(2, 2, 2)),\n",
    "    layers.Dropout(0.2),\n",
    "    layers.Flatten(),\n",
    "    layers.Dense(1024, activation='relu'),\n",
    "    layers.Dense(256, activation='relu'),\n",
    "    layers.Dense(2, activation='softmax'),\n",
    "])\n",
    "model.compile(optimizer=keras.optimizers.Adadelta(), loss='mean_squared_error',\n",
    "              metrics=['mean_squared_error'])\n",
    "\n",
    "\n",
    "\n",
    "# *************************************************************************************************\n",
    "model.fit_generator(train_generator(),\n",
    "                    steps_per_epoch=15,  # 数据规格可能大小不对应\n",
    "                    epochs=10,\n",
    "                    verbose=1,\n",
    "                    validation_data=(x_test,y_test))\n",
    "model.predict(x_test)\n"
   ]
  },
  {
   "cell_type": "code",
   "execution_count": null,
   "metadata": {},
   "outputs": [],
   "source": [
    "keras.layers.M"
   ]
  },
  {
   "cell_type": "code",
   "execution_count": 3,
   "metadata": {},
   "outputs": [
    {
     "data": {
      "text/plain": [
       "array([[0.29936746, 0.7006326 ],\n",
       "       [0.29936746, 0.7006326 ],\n",
       "       [0.29936746, 0.7006326 ],\n",
       "       [0.29936746, 0.7006326 ],\n",
       "       [0.29936746, 0.7006326 ],\n",
       "       [0.29936746, 0.7006326 ],\n",
       "       [0.29936746, 0.7006326 ],\n",
       "       [0.29936746, 0.7006326 ],\n",
       "       [0.29936743, 0.7006326 ]], dtype=float32)"
      ]
     },
     "execution_count": 3,
     "metadata": {},
     "output_type": "execute_result"
    }
   ],
   "source": [
    "model.predict(x_test)"
   ]
  },
  {
   "cell_type": "code",
   "execution_count": 3,
   "metadata": {},
   "outputs": [
    {
     "ename": "NameError",
     "evalue": "name 'y_test' is not defined",
     "output_type": "error",
     "traceback": [
      "\u001b[0;31m---------------------------------------------------------------------------\u001b[0m",
      "\u001b[0;31mNameError\u001b[0m                                 Traceback (most recent call last)",
      "\u001b[0;32m<ipython-input-3-27d3425f7a85>\u001b[0m in \u001b[0;36m<module>\u001b[0;34m\u001b[0m\n\u001b[0;32m----> 1\u001b[0;31m \u001b[0my_test\u001b[0m\u001b[0;34m\u001b[0m\u001b[0;34m\u001b[0m\u001b[0m\n\u001b[0m",
      "\u001b[0;31mNameError\u001b[0m: name 'y_test' is not defined"
     ]
    }
   ],
   "source": []
  }
 ],
 "metadata": {
  "kernelspec": {
   "display_name": "Python 3",
   "language": "python",
   "name": "python3"
  },
  "language_info": {
   "codemirror_mode": {
    "name": "ipython",
    "version": 3
   },
   "file_extension": ".py",
   "mimetype": "text/x-python",
   "name": "python",
   "nbconvert_exporter": "python",
   "pygments_lexer": "ipython3",
   "version": "3.7.1"
  }
 },
 "nbformat": 4,
 "nbformat_minor": 2
}
