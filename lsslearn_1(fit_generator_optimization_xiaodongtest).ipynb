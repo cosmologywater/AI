{
 "cells": [
  {
   "cell_type": "code",
   "execution_count": 1,
   "metadata": {
    "collapsed": true
   },
   "outputs": [
    {
     "name": "stdout",
     "output_type": "stream",
     "text": [
      "Populating the interactive namespace from numpy and matplotlib\n",
      "[[0.28215856 0.26501579 0.68608418]\n",
      " [0.4854197  0.50869073 0.10813298]\n",
      " [0.00418084 0.84696929 0.18086016]]\n"
     ]
    },
    {
     "data": {
      "image/png": "[encoded data removed]",
      "text/plain": [
       "<Figure size 648x648 with 9 Axes>"
      ]
     },
     "metadata": {
      "needs_background": "light"
     },
     "output_type": "display_data"
    }
   ],
   "source": [
    "%pylab inline\n",
    "\n",
    "A = np.random.rand(3,3, )\n",
    "print (A)\n",
    "\n",
    "def data_aug2d(A):\n",
    "    return [A, np.fliplr(A), np.rot90(A), np.fliplr(np.rot90(A)), rot90(rot90(A)), np.fliplr(rot90(rot90(A))), \n",
    "     rot90(rot90(rot90(A))), np.fliplr(rot90(rot90(rot90(A))))]\n",
    "\n",
    "fig, axs = subplots(3,3, figsize=(9,9)); row = 0\n",
    "As = data_aug2d(A)\n",
    "for i in range(3):\n",
    "    for j in range(3):\n",
    "        axs[i][j].imshow(As[row]); row+=1\n",
    "        if row == 8: break\n",
    "fig.tight_layout()"
   ]
  },
  {
   "cell_type": "markdown",
   "metadata": {},
   "source": [
    "### 以上是数据增强的测试代码，还没成功，忽略。。。从这里开始"
   ]
  },
  {
   "cell_type": "markdown",
   "metadata": {},
   "source": [
    "##### for some cosmologies data are missing...!!!??? we have to skip them"
   ]
  },
  {
   "cell_type": "code",
   "execution_count": 4,
   "metadata": {},
   "outputs": [
    {
     "name": "stdout",
     "output_type": "stream",
     "text": [
      "Populating the interactive namespace from numpy and matplotlib\n",
      "In total  465 cosmologies\n",
      "Build up gridfile_dict... (for speed-up of load_grid())\n",
      "\tmissing cosmology! om0.180_As2.040\n",
      "\tmissing cosmology! om0.180_As2.100\n",
      "\tmissing cosmology! om0.180_As2.120\n",
      "\tmissing cosmology! om0.180_As2.140\n",
      "\tmissing cosmology! om0.180_As2.200\n",
      "\tmissing cosmology! om0.180_As2.220\n",
      "\tmissing cosmology! om0.180_As2.260\n"
     ]
    }
   ],
   "source": [
    "%pylab inline\n",
    "import numpy as np\n",
    "import keras, os, pynbody, struct\n",
    "\n",
    "lsstr = \"ls /media/xiaodongli/0B9ADFB4341AD2BD/om_As/\"\n",
    "\n",
    "def cosmostr(om, As):\n",
    "    return 'om%.3f' % om + '_As%.3f' % As\n",
    "\n",
    "def snpfiles(cosmology, snpstr='c'):  #\n",
    "    return os.popen(lsstr + cosmology + \"*snap*\" + snpstr + \".*\").read().split()\n",
    "\n",
    "def gridfiles(cosmology, snpstr='c'):\n",
    "    return os.popen(lsstr + cosmology + \"*grid*\" + snpstr + \".*\").read().split()\n",
    "\n",
    "def mocklist():\n",
    "    files = os.popen(lsstr + \"om*.lua\").read().split('\\n')\n",
    "    # *代替多个字母,即列出所有符合条件的.lua文件:om...\n",
    "    cosmologies = []  # 宇宙学参数\n",
    "    mocks = {}  # 模拟测试\n",
    "    ifile = 0  # 有效文件\n",
    "    for nowfile in files:\n",
    "        # str[a:b]不存在时,返回'',不存在则忽略\n",
    "        nowstr = nowfile[-39:-10]\n",
    "        if nowstr == '':\n",
    "            continue\n",
    "        cosmologies.append(nowstr[0:15])\n",
    "        ifile += 1\n",
    "        try:\n",
    "            mocks[nowstr[0:15]] = {'om': float(nowstr[2:7]), 'As': float(nowstr[10:15]),\n",
    "                                   'sigma8': float(nowstr[23:29])}\n",
    "            # 添加随机数种子\n",
    "            ranseed = float(open(nowfile, 'r').readline().split()[2])  # 默认以所有空字符为分隔符,包括空格,\\n,\\t\n",
    "            mocks[nowstr[0:15]]['ranseed'] = int(ranseed)\n",
    "            # print(ranseed)\n",
    "        except:\n",
    "            pass\n",
    "    return cosmologies, files, mocks\n",
    "\n",
    "gridfile_dict = {}\n",
    "\n",
    "cosmologies, filenames, infos = mocklist()\n",
    "print('In total ', len(cosmologies), 'cosmologies')\n",
    "\n",
    "print('Build up gridfile_dict... (for speed-up of load_grid()) ')\n",
    "for cosmology in cosmologies:\n",
    "    rlt = gridfiles(cosmology)\n",
    "    if rlt == []:\n",
    "        print ('\\tmissing cosmology!', cosmology)\n",
    "    else:\n",
    "        gridfile_dict[cosmology] = rlt[0]"
   ]
  },
  {
   "cell_type": "code",
   "execution_count": 5,
   "metadata": {},
   "outputs": [],
   "source": [
    "def load_grid(gridfile, snpstr='c', printinfo=False):  # 网格加载\n",
    "    #gridfile = os.popen(lsstr + cosmology+\"_sigma8_*grid*\" + snpstr + \".*\").read().split()[0]\n",
    "    #print('load in gridfile : ', gridfile, '...')\n",
    "    nowf = open(gridfile, 'rb')  # 以二进制形式读取文件\n",
    "    # struct:对python基本类型值与用python字符串格式表示的C struct类型间转化\n",
    "    size = struct.unpack('f' * 1, nowf.read(4 * 1))[0]\n",
    "    grid_nc = struct.unpack('i' * 1, nowf.read(4 * 1))[0]\n",
    "    data = struct.unpack('f' * grid_nc ** 3, nowf.read(4 * grid_nc ** 3))\n",
    "    if printinfo:\n",
    "        print('read in box size     \\n\\t', size)\n",
    "        print('read in num_grid      \\n\\t', grid_nc)\n",
    "        print('read in coarse grid \\n\\tsize    : ', len(data), '\\n\\texpect  : ', grid_nc ** 3)\n",
    "\n",
    "    nowf.close()\n",
    "    return np.array(data).reshape((grid_nc, grid_nc, grid_nc))\n",
    "\n",
    "def subcubes(A):\n",
    "    rlt = []\n",
    "    for row1 in [0, 32, 64]:\n",
    "        for row2 in [0, 32, 64]:\n",
    "            for row3 in [0, 32, 64]:\n",
    "                rlt.append(A[row1:row1+32,row2:row2+32,row3:row3+32])\n",
    "    return rlt\n",
    "\n",
    "def data_augument(A):\n",
    "    rlt = []\n"
   ]
  },
  {
   "cell_type": "code",
   "execution_count": 8,
   "metadata": {
    "scrolled": false
   },
   "outputs": [],
   "source": [
    "# lsstr = \"ls /media/minstrel/Seagate/cola_multiverse/om_As/\"\n",
    "# 初始化数据集,因函数定义中参数不可转为全局变量\n",
    "# 此过程受train_test_split的test_size参数的影响,则今后更改或维护程序应注意\n",
    "test_size = 0.3\n",
    "batch_size = 31\n",
    "num_subcube = 64\n",
    "num_data_augument = 48\n",
    "\n",
    "x_train = np.zeros((batch_size-int(test_size*batch_size)-1, 2))  # 因test_size=0.3,保证初始化矩阵的形状与后面的相同\n",
    "x_test = np.zeros((int(test_size*batch_size)+1,32,32,32, 1))\n",
    "y_test = np.zeros((int(test_size*batch_size)+1, 2))\n",
    "y_train = np.zeros((batch_size-int(test_size*batch_size)-1, 2))\n",
    "\n",
    "\n",
    "###  xiaodong: 重新写了 load_grid 程序。。。之前有错误！！！！（好像只会 load 进来一个 om...)\n",
    "def train_generator():  # 必须无限循环yield数据,全部数据遍历后再重新遍历数据,为下一个epoch yield 数据\n",
    "    i = 0\n",
    "    while 1:\n",
    "        X = []\n",
    "        y = []\n",
    "        global x_train, x_test, y_test, y_train, test_size, batch_size\n",
    "        #print(' load in ', batch_size * i, 'to', batch_size * (i + 1), '... len(cosmologies)=',\n",
    "        #      len(cosmologies))\n",
    "        for cosmology in cosmologies[batch_size * i: batch_size * (i + 1)]:\n",
    "            try:\n",
    "                gridfile = gridfile_dict[cosmology]\n",
    "                gridfile_exist = True\n",
    "            except:\n",
    "                #print('skip cosmology ', cosmology, '!!!')\n",
    "                gridfile_exist = False\n",
    "            if gridfile_exist:\n",
    "                griddata = load_grid(gridfile, 'c')\n",
    "                for subcube in subcubes(griddata):\n",
    "                    X.append(subcube)\n",
    "                    y.append(np.array([infos[cosmology]['om'], infos[cosmology]['sigma8']]))\n",
    "        X = np.array(X)\n",
    "        y = np.array(y)\n",
    "        x_train, x_test, y_train, y_test = model_selection.train_test_split(X, y, test_size=test_size)\n",
    "        x_train = x_train.reshape(-1, 32, 32, 32, 1)\n",
    "        x_test = x_test.reshape(-1, 32, 32, 32, 1)\n",
    "        i += 1\n",
    "        yield x_train, y_train  # tuple 类型\n",
    "        # 15个批次后重新遍历数据,此循环即死循环\n",
    "        if i == 465//batch_size:\n",
    "            i = 0"
   ]
  },
  {
   "cell_type": "code",
   "execution_count": null,
   "metadata": {},
   "outputs": [],
   "source": [
    "from keras import Sequential, layers\n",
    "from sklearn import model_selection, metrics\n",
    "\n",
    "model = keras.Sequential([\n",
    "    layers.BatchNormalization( input_shape=(32, 32, 32, 1)),\n",
    "    layers.Conv3D(32, (3, 3, 3), activation='relu'),\n",
    "    layers.AveragePooling3D(pool_size=(2, 2, 2)),\n",
    "    layers.BatchNormalization(),\n",
    "    layers.Conv3D(64, (3, 3, 3), activation='relu'),\n",
    "    layers.AveragePooling3D(pool_size=(2, 2, 2)),\n",
    "    layers.BatchNormalization(),\n",
    "    layers.Conv3D(128, (3, 3, 3), activation='relu'),\n",
    "    layers.AveragePooling3D(pool_size=(2, 2, 2)),\n",
    "    layers.Dropout(0.2),\n",
    "    layers.Flatten(),\n",
    "    layers.Dense(1024, activation='relu'),\n",
    "    layers.Dense(256, activation='relu'),\n",
    "    layers.Dense(2, activation='softmax'),\n",
    "])\n",
    "model.compile(optimizer=keras.optimizers.Adadelta(), loss='mean_squared_error',\n",
    "              metrics=['mean_squared_error'])\n",
    "\n",
    "\n",
    "\n",
    "# *************************************************************************************************\n",
    "model.fit_generator(train_generator(),\n",
    "                    steps_per_epoch=465//batch_size,  # 数据规格可能大小不对应\n",
    "                    epochs=10,\n",
    "                    verbose=1,\n",
    "                    validation_data=(x_test,y_test))\n",
    "model.predict(x_test)\n"
   ]
  },
  {
   "cell_type": "code",
   "execution_count": null,
   "metadata": {},
   "outputs": [
    {
     "name": "stdout",
     "output_type": "stream",
     "text": [
      "Epoch 1/10\n",
      " 2/15 [===>..........................] - ETA: 4:17 - loss: 0.1096 - mean_squared_error: 0.1096"
     ]
    }
   ],
   "source": [
    "from keras import Sequential, layers\n",
    "from sklearn import model_selection, metrics\n",
    "\n",
    "model = keras.Sequential([\n",
    "    layers.BatchNormalization( input_shape=(32, 32, 32, 1)),\n",
    "    layers.Conv3D(2, (3, 3, 3), activation='relu', ),\n",
    "    layers.BatchNormalization(),\n",
    "    layers.Conv3D(12, (3, 3, 3), activation='relu', ),\n",
    "    layers.AveragePooling3D(pool_size=(2, 2, 2),),\n",
    "    layers.BatchNormalization(),\n",
    "    layers.Conv3D(64, (9, 9, 9), activation='relu', ),\n",
    "    layers.BatchNormalization(),\n",
    "    layers.Conv3D(64, (3, 3, 3), activation='relu', ),\n",
    "    layers.BatchNormalization(),\n",
    "    layers.Conv3D(128, (2, 2, 2), activation='relu', ),\n",
    "    layers.BatchNormalization(),\n",
    "    layers.Conv3D(128, (2, 2, 2), activation='relu', ),\n",
    "    layers.Flatten(),\n",
    "    layers.Dense(1024, activation='relu'),\n",
    "    layers.Dropout(0.5),\n",
    "    layers.Dense(256, activation='relu'),\n",
    "    layers.Dropout(0.5),\n",
    "    layers.Dense(2, activation='softmax'),\n",
    "])\n",
    "model.compile(optimizer=keras.optimizers.Adadelta(), loss='mean_squared_error',\n",
    "              metrics=['mean_squared_error'])\n",
    "\n",
    "\n",
    "\n",
    "# *************************************************************************************************\n",
    "model.fit_generator(train_generator(),\n",
    "                    steps_per_epoch=465//batch_size,  # 数据规格可能大小不对应\n",
    "                    epochs=10,\n",
    "                    verbose=1,\n",
    "                    validation_data=(x_test,y_test))\n",
    "model.predict(x_test)\n"
   ]
  }
 ],
 "metadata": {
  "kernelspec": {
   "display_name": "Python 3",
   "language": "python",
   "name": "python3"
  },
  "language_info": {
   "codemirror_mode": {
    "name": "ipython",
    "version": 3
   },
   "file_extension": ".py",
   "mimetype": "text/x-python",
   "name": "python",
   "nbconvert_exporter": "python",
   "pygments_lexer": "ipython3",
   "version": "3.7.1"
  }
 },
 "nbformat": 4,
 "nbformat_minor": 2
}
