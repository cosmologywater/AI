{
 "cells": [
  {
   "cell_type": "markdown",
   "metadata": {},
   "source": [
    "### 如何解决过拟合？\n",
    "\n",
    "    方法一：尽量减少选取变量的数量\n",
    "\n",
    "具体而言，我们可以人工检查每一项变量，并以此来确定哪些变量更为重要，然后，保留那些更为重要的特征变量。\n",
    "\n",
    "至于，哪些变量应该舍弃，这会涉及到模型选择算法，这种算法可以自动选择采用哪些特征变量，自动舍弃不需要的变量。\n",
    "\n",
    "这类做法非常有效，但是其缺点是当你舍弃一部分特征变量时，你也舍弃了问题中的一些信息。例如，也许所有的特征变量都是有用的，我们实际上并不想舍弃一些信息或者说舍弃这些特征变量。\n",
    "\n",
    "\n",
    "    方法二：正则化\n",
    "\n",
    "正则化中我们将保留所有的特征变量，但是会减小特征变量的数量级（参数数值的大小θ(j)）。\n",
    "\n",
    "这个方法非常有效，当我们有很多特征变量时，其中每一个变量都能对预测产生一点影响。我们可以有很多特征变量，其中每一个变量都是有用的，因此我们不希望把它们删掉，这就导致了正则化概念的发生。\n",
    "\n",
    "正则化细讲太过复杂，下面只举一个例子。。。\n",
    "\n",
    "通常有一个 cost function 描述 y_predict 与 y 的差异。。。 两者越小，拟合越好。\n",
    "\n",
    "一种正则化是，在拟合过程中，除了要求 cost funciton 小，还要求 模型 非零参数少。一般在 cost function 后面加上一项与 0 范数有关的项（这样，可以让非零参数尽可能少，避免过度复杂的模型出现。。。）（btw，1范数比0范数好求，在某种程度上两者有一定类似性，因此大家后来开始用 1 范数甚至 2 范数来做正则化。。。）\n",
    "\n",
    "更详细直观的看这里。。。\n",
    "https://charlesliuyx.github.io/2017/10/03/%E3%80%90%E7%9B%B4%E8%A7%82%E8%AF%A6%E8%A7%A3%E3%80%91%E4%BB%80%E4%B9%88%E6%98%AF%E6%AD%A3%E5%88%99%E5%8C%96/ "
   ]
  },
  {
   "cell_type": "code",
   "execution_count": null,
   "metadata": {},
   "outputs": [],
   "source": []
  }
 ],
 "metadata": {
  "kernelspec": {
   "display_name": "Python 3",
   "language": "python",
   "name": "python3"
  },
  "language_info": {
   "codemirror_mode": {
    "name": "ipython",
    "version": 3
   },
   "file_extension": ".py",
   "mimetype": "text/x-python",
   "name": "python",
   "nbconvert_exporter": "python",
   "pygments_lexer": "ipython3",
   "version": "3.7.1"
  }
 },
 "nbformat": 4,
 "nbformat_minor": 2
}
